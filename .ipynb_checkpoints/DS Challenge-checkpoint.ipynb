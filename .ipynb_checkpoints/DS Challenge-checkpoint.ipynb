{
 "cells": [
  {
   "cell_type": "code",
   "execution_count": 33,
   "metadata": {},
   "outputs": [],
   "source": [
    "import cmath"
   ]
  },
  {
   "cell_type": "markdown",
   "metadata": {},
   "source": [
    "Classes:\n",
    "    - Promotor\n",
    "    - Detrator\n",
    "    - Neutro\n",
    "Só 100 notícias são classificadas\n",
    "Os conteúdos são rankeados por alcance\n",
    "    - No grupo com os 50 maiores alcances, todos são classificados manualmente\n",
    "    - O restante, 50 são selecionados aleatoriamentes e classificados manualmente\n",
    "    - Alcance por grupo\n",
    "    \n",
    "    "
   ]
  },
  {
   "cell_type": "code",
   "execution_count": 12,
   "metadata": {},
   "outputs": [],
   "source": [
    "alcance_promotor_top = 1000000 * (15/50)\n",
    "alcance_detrator_top = 1000000 * (8/50)"
   ]
  },
  {
   "cell_type": "code",
   "execution_count": 13,
   "metadata": {},
   "outputs": [],
   "source": [
    "alcance_promotor_res = 3000000 * (17/50)\n",
    "alcance_detrator_res = 3000000 * (7/50)"
   ]
  },
  {
   "cell_type": "code",
   "execution_count": 20,
   "metadata": {},
   "outputs": [],
   "source": [
    "alcance_promotor_total = alcance_promotor_top + alcance_promotor_res\n",
    "alcance_detrator_total = alcance_detrator_top + alcance_detrator_res"
   ]
  },
  {
   "cell_type": "code",
   "execution_count": 23,
   "metadata": {},
   "outputs": [],
   "source": [
    "indice_promotor_top = alcance_promotor_total / (alcance_promotor_top + alcance_detrator_top)\n",
    "indice_promotor_res = alcance_promotor_total / (alcance_promotor_res+alcance_detrator_res)"
   ]
  },
  {
   "cell_type": "code",
   "execution_count": 24,
   "metadata": {},
   "outputs": [
    {
     "data": {
      "text/plain": [
       "2.869565217391304"
      ]
     },
     "execution_count": 24,
     "metadata": {},
     "output_type": "execute_result"
    }
   ],
   "source": [
    "indice_promotor_top"
   ]
  },
  {
   "cell_type": "code",
   "execution_count": 25,
   "metadata": {},
   "outputs": [
    {
     "data": {
      "text/plain": [
       "0.9166666666666665"
      ]
     },
     "execution_count": 25,
     "metadata": {},
     "output_type": "execute_result"
    }
   ],
   "source": [
    "indice_promotor_res"
   ]
  },
  {
   "attachments": {},
   "cell_type": "markdown",
   "metadata": {},
   "source": [
    "https://www.netquest.com/blog/br/blog/br/qual-e-o-tamanho-de-amostra-que-preciso"
   ]
  },
  {
   "cell_type": "markdown",
   "metadata": {},
   "source": [
    "n = (N * Z^2 * p * (1-p)) / ((N-1) * e^2 + Z^2 * p * (1-p))\n",
    "n * (N-1) * e^2 + Zˆ2 * p * (1-p) = (N * Z^2 * p * (1-p))\n",
    "e^2+Zˆ2 = (N * Z^2 * p * (1-p)) / (n * (N-1) * p * (1-p))\n",
    "eˆ2 = ((N * Z^2 * p * (1-p)) / (n * (N-1) * p * (1-p))) - Z^2"
   ]
  },
  {
   "cell_type": "code",
   "execution_count": 27,
   "metadata": {},
   "outputs": [],
   "source": [
    "n_top = 50 #tamanho da amostra\n",
    "N_top = 50 #tamanho da população\n",
    "p_top = 0.5 #proporção\n",
    "Z_top = 1.96 #confiança de 95%"
   ]
  },
  {
   "cell_type": "code",
   "execution_count": 28,
   "metadata": {},
   "outputs": [],
   "source": [
    "e_2 = ((N_top * Z_top**2 * p_top * (1-p_top)) / (n_top * (N_top-1) * p_top * (1-p_top))) - Z_top**2"
   ]
  },
  {
   "cell_type": "code",
   "execution_count": 34,
   "metadata": {},
   "outputs": [],
   "source": [
    "e = cmath.sqrt(e_2)"
   ]
  },
  {
   "cell_type": "code",
   "execution_count": 37,
   "metadata": {},
   "outputs": [
    {
     "data": {
      "text/plain": [
       "0.0"
      ]
     },
     "execution_count": 37,
     "metadata": {},
     "output_type": "execute_result"
    }
   ],
   "source": [
    "e.real"
   ]
  }
 ],
 "metadata": {
  "kernelspec": {
   "display_name": "Python 3",
   "language": "python",
   "name": "python3"
  },
  "language_info": {
   "codemirror_mode": {
    "name": "ipython",
    "version": 3
   },
   "file_extension": ".py",
   "mimetype": "text/x-python",
   "name": "python",
   "nbconvert_exporter": "python",
   "pygments_lexer": "ipython3",
   "version": "3.6.1"
  }
 },
 "nbformat": 4,
 "nbformat_minor": 4
}
